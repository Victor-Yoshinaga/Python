{
 "cells": [
  {
   "cell_type": "code",
   "execution_count": null,
   "id": "039f4351",
   "metadata": {},
   "outputs": [],
   "source": [
    "pip install pyodbc"
   ]
  },
  {
   "cell_type": "code",
   "execution_count": 4,
   "id": "f98d3e1d",
   "metadata": {
    "scrolled": true
   },
   "outputs": [
    {
     "ename": "OperationalError",
     "evalue": "('08001', '[08001] [Microsoft][ODBC SQL Server Driver][Shared Memory]SQL Server inexistente ou acesso negado. (17) (SQLDriverConnect); [08001] [Microsoft][ODBC SQL Server Driver][Shared Memory]ConnectionOpen (Connect()). (2)')",
     "output_type": "error",
     "traceback": [
      "\u001b[1;31m---------------------------------------------------------------------------\u001b[0m",
      "\u001b[1;31mOperationalError\u001b[0m                          Traceback (most recent call last)",
      "Input \u001b[1;32mIn [4]\u001b[0m, in \u001b[0;36m<cell line: 8>\u001b[1;34m()\u001b[0m\n\u001b[0;32m      1\u001b[0m \u001b[38;5;28;01mimport\u001b[39;00m \u001b[38;5;21;01mpyodbc\u001b[39;00m\n\u001b[0;32m      2\u001b[0m dados_conexao \u001b[38;5;241m=\u001b[39m (\n\u001b[0;32m      3\u001b[0m     \u001b[38;5;124m\"\u001b[39m\u001b[38;5;124mDriver=\u001b[39m\u001b[38;5;124m{\u001b[39m\u001b[38;5;124mSQL Server};\u001b[39m\u001b[38;5;124m\"\u001b[39m\n\u001b[0;32m      4\u001b[0m     \u001b[38;5;124m\"\u001b[39m\u001b[38;5;124mServer=DESKTOP-NKN5G29;\u001b[39m\u001b[38;5;124m\"\u001b[39m\n\u001b[0;32m      5\u001b[0m     \u001b[38;5;124m\"\u001b[39m\u001b[38;5;124mDatabase=PythonSQL;\u001b[39m\u001b[38;5;124m\"\u001b[39m\n\u001b[0;32m      6\u001b[0m )\n\u001b[1;32m----> 8\u001b[0m conexao \u001b[38;5;241m=\u001b[39m \u001b[43mpyodbc\u001b[49m\u001b[38;5;241;43m.\u001b[39;49m\u001b[43mconnect\u001b[49m\u001b[43m(\u001b[49m\u001b[43mdados_conexao\u001b[49m\u001b[43m)\u001b[49m\n\u001b[0;32m      9\u001b[0m \u001b[38;5;28mprint\u001b[39m(\u001b[38;5;124m'\u001b[39m\u001b[38;5;124mcomando bem sucedida\u001b[39m\u001b[38;5;124m'\u001b[39m)\n",
      "\u001b[1;31mOperationalError\u001b[0m: ('08001', '[08001] [Microsoft][ODBC SQL Server Driver][Shared Memory]SQL Server inexistente ou acesso negado. (17) (SQLDriverConnect); [08001] [Microsoft][ODBC SQL Server Driver][Shared Memory]ConnectionOpen (Connect()). (2)')"
     ]
    }
   ],
   "source": [
    "import pyodbc\n",
    "dados_conexao = (\n",
    "    \"Driver={SQL Server};\"\n",
    "    \"Server=DESKTOP-NKN5G29;\"\n",
    "    \"Database=PythonSQL;\"\n",
    ")\n",
    "\n",
    "conexao = pyodbc.connect(dados_conexao)\n",
    "print('comando bem sucedida')"
   ]
  },
  {
   "cell_type": "code",
   "execution_count": null,
   "id": "4a9c8ac3",
   "metadata": {},
   "outputs": [],
   "source": [
    "cursor = conexao.cursor()\n",
    "\n",
    "comando = \"\"\"insert into vendas(id_venda, cliente, produto,preco, data_vendas, quantidade)\n",
    "values\n",
    "\t(1, 'victor', 'pc','1000', '15/02/2021',1)\n",
    "\"\"\"\n",
    "\n",
    "cursor.execute(comando)\n",
    "cursor.commit()"
   ]
  },
  {
   "cell_type": "code",
   "execution_count": null,
   "id": "59b4bf14",
   "metadata": {},
   "outputs": [],
   "source": []
  }
 ],
 "metadata": {
  "kernelspec": {
   "display_name": "Python 3 (ipykernel)",
   "language": "python",
   "name": "python3"
  },
  "language_info": {
   "codemirror_mode": {
    "name": "ipython",
    "version": 3
   },
   "file_extension": ".py",
   "mimetype": "text/x-python",
   "name": "python",
   "nbconvert_exporter": "python",
   "pygments_lexer": "ipython3",
   "version": "3.9.12"
  }
 },
 "nbformat": 4,
 "nbformat_minor": 5
}
