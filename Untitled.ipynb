{
 "cells": [
  {
   "cell_type": "code",
   "execution_count": 1,
   "id": "c9e77b29",
   "metadata": {},
   "outputs": [
    {
     "name": "stdout",
     "output_type": "stream",
     "text": [
      "Requirement already satisfied: flask in c:\\users\\victo\\anaconda3\\lib\\site-packages (1.1.2)\n",
      "Collecting flask-jsonpify\n",
      "  Downloading Flask-Jsonpify-1.5.0.tar.gz (3.0 kB)\n",
      "Collecting flask-sqlalchemy\n",
      "  Downloading Flask_SQLAlchemy-2.5.1-py2.py3-none-any.whl (17 kB)\n",
      "Collecting flask-restful\n",
      "  Downloading Flask_RESTful-0.3.9-py2.py3-none-any.whl (25 kB)\n",
      "Requirement already satisfied: click>=5.1 in c:\\users\\victo\\anaconda3\\lib\\site-packages (from flask) (8.0.4)\n",
      "Requirement already satisfied: itsdangerous>=0.24 in c:\\users\\victo\\anaconda3\\lib\\site-packages (from flask) (2.0.1)\n",
      "Requirement already satisfied: Jinja2>=2.10.1 in c:\\users\\victo\\anaconda3\\lib\\site-packages (from flask) (2.11.3)\n",
      "Requirement already satisfied: Werkzeug>=0.15 in c:\\users\\victo\\anaconda3\\lib\\site-packages (from flask) (2.0.3)\n",
      "Requirement already satisfied: SQLAlchemy>=0.8.0 in c:\\users\\victo\\anaconda3\\lib\\site-packages (from flask-sqlalchemy) (1.4.32)\n",
      "Collecting aniso8601>=0.82\n",
      "  Downloading aniso8601-9.0.1-py2.py3-none-any.whl (52 kB)\n",
      "Requirement already satisfied: six>=1.3.0 in c:\\users\\victo\\anaconda3\\lib\\site-packages (from flask-restful) (1.16.0)\n",
      "Requirement already satisfied: pytz in c:\\users\\victo\\anaconda3\\lib\\site-packages (from flask-restful) (2021.3)\n",
      "Requirement already satisfied: colorama in c:\\users\\victo\\anaconda3\\lib\\site-packages (from click>=5.1->flask) (0.4.4)\n",
      "Requirement already satisfied: MarkupSafe>=0.23 in c:\\users\\victo\\anaconda3\\lib\\site-packages (from Jinja2>=2.10.1->flask) (2.0.1)\n",
      "Requirement already satisfied: greenlet!=0.4.17 in c:\\users\\victo\\anaconda3\\lib\\site-packages (from SQLAlchemy>=0.8.0->flask-sqlalchemy) (1.1.1)\n",
      "Building wheels for collected packages: flask-jsonpify\n",
      "  Building wheel for flask-jsonpify (setup.py): started\n",
      "  Building wheel for flask-jsonpify (setup.py): finished with status 'done'\n",
      "  Created wheel for flask-jsonpify: filename=Flask_Jsonpify-1.5.0-py3-none-any.whl size=3083 sha256=6daf95bad81c519106c09416894a2ca8aace1ff887db6a096dfd44c998096d6b\n",
      "  Stored in directory: c:\\users\\victo\\appdata\\local\\pip\\cache\\wheels\\40\\65\\eb\\a4c64caa40c4bd6e98c4e3919349c878e2b6f93f61d215448a\n",
      "Successfully built flask-jsonpify\n",
      "Installing collected packages: aniso8601, flask-sqlalchemy, flask-restful, flask-jsonpify\n",
      "Successfully installed aniso8601-9.0.1 flask-jsonpify-1.5.0 flask-restful-0.3.9 flask-sqlalchemy-2.5.1\n"
     ]
    }
   ],
   "source": [
    "!pip install flask flask-jsonpify flask-sqlalchemy flask-restful"
   ]
  },
  {
   "cell_type": "code",
   "execution_count": 2,
   "id": "0fa0c174",
   "metadata": {},
   "outputs": [],
   "source": [
    "from flask import Flask, request, jsonify\n",
    "from flask_restful import Resource, Api\n",
    "from sqlalchemy import create_engine\n",
    "from json import dumps"
   ]
  },
  {
   "cell_type": "code",
   "execution_count": 3,
   "id": "71723aa8",
   "metadata": {},
   "outputs": [],
   "source": [
    "db_connect = create_engine('sqlite:///exemplo.db')\n",
    "app = Flask(__name__)\n",
    "api = Api(app)"
   ]
  },
  {
   "cell_type": "code",
   "execution_count": 5,
   "id": "b6ea7a88",
   "metadata": {},
   "outputs": [],
   "source": [
    "class Users(Resource):\n",
    "    def get(self):\n",
    "        conn = db_connect.connect()\n",
    "        query = conn.execute(\"select * from user\")\n",
    "        result = [dict(zip(tuple(query.keys()), i)) for i in query.cursor]\n",
    "        return jsonify(result)\n",
    "\n",
    "    def post(self):\n",
    "        conn = db_connect.connect()\n",
    "        name = request.json['name']\n",
    "        email = request.json['email']\n",
    "\n",
    "        conn.execute(\n",
    "            \"insert into user values(null, '{0}','{1}')\".format(name, email))\n",
    "\n",
    "        query = conn.execute('select * from user order by id desc limit 1')\n",
    "        result = [dict(zip(tuple(query.keys()), i)) for i in query.cursor]\n",
    "        return jsonify(result)\n",
    "\n",
    "    def put(self):\n",
    "        conn = db_connect.connect()\n",
    "        id = request.json['id']\n",
    "        name = request.json['name']\n",
    "        email = request.json['email']\n",
    "\n",
    "        conn.execute(\"update user set name ='\" + str(name) +\n",
    "                     \"', email ='\" + str(email) + \"'  where id =%d \" % int(id))\n",
    "\n",
    "        query = conn.execute(\"select * from user where id=%d \" % int(id))\n",
    "        result = [dict(zip(tuple(query.keys()), i)) for i in query.cursor]\n",
    "        return jsonify(result)"
   ]
  },
  {
   "cell_type": "code",
   "execution_count": 6,
   "id": "f5fba684",
   "metadata": {},
   "outputs": [],
   "source": [
    "class UserById(Resource):\n",
    "    def delete(self, id):\n",
    "        conn = db_connect.connect()\n",
    "        conn.execute(\"delete from user where id=%d \" % int(id))\n",
    "        return {\"status\": \"success\"}\n",
    "\n",
    "    def get(self, id):\n",
    "        conn = db_connect.connect()\n",
    "        query = conn.execute(\"select * from user where id =%d \" % int(id))\n",
    "        result = [dict(zip(tuple(query.keys()), i)) for i in query.cursor]\n",
    "        return jsonify(result)"
   ]
  },
  {
   "cell_type": "code",
   "execution_count": null,
   "id": "6495bdb5",
   "metadata": {},
   "outputs": [],
   "source": [
    "api.add_resource(Users, '/users') \n",
    "api.add_resource(UserById, '/users/<id>') \n",
    "\n",
    "if __name__ == '__main__':\n",
    "    app.run()"
   ]
  },
  {
   "cell_type": "code",
   "execution_count": null,
   "id": "b68231a0",
   "metadata": {},
   "outputs": [],
   "source": []
  }
 ],
 "metadata": {
  "kernelspec": {
   "display_name": "Python 3 (ipykernel)",
   "language": "python",
   "name": "python3"
  },
  "language_info": {
   "codemirror_mode": {
    "name": "ipython",
    "version": 3
   },
   "file_extension": ".py",
   "mimetype": "text/x-python",
   "name": "python",
   "nbconvert_exporter": "python",
   "pygments_lexer": "ipython3",
   "version": "3.9.12"
  }
 },
 "nbformat": 4,
 "nbformat_minor": 5
}
